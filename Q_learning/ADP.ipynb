{
 "cells": [
  {
   "cell_type": "code",
   "execution_count": 21,
   "metadata": {},
   "outputs": [],
   "source": [
    "import numpy as np"
   ]
  },
  {
   "cell_type": "code",
   "execution_count": 22,
   "metadata": {},
   "outputs": [
    {
     "name": "stdout",
     "output_type": "stream",
     "text": [
      "[0. 0. 0. 0. 0. 0.]\n",
      "[0. 0. 0. 0. 0. 1.]\n",
      "[0. 0. 0. 0. 0. 0.]\n",
      "[ 0.  0.  0.  0. -1. -1.]\n"
     ]
    }
   ],
   "source": [
    "environment_rows = 4\n",
    "environment_columns = 6\n",
    "\n",
    "rewards = np.full((environment_rows, environment_columns), 0.)\n",
    "rewards[1, 5] = 1. #goal state\n",
    "\n",
    "rewards[3,4] = -1 #trap position\n",
    "rewards[3,5] = -1\n",
    "\n",
    "for row in rewards:\n",
    "    print(row)"
   ]
  },
  {
   "cell_type": "code",
   "execution_count": 23,
   "metadata": {},
   "outputs": [],
   "source": [
    "def valid_actions(matrix, current_point):\n",
    "    re = []\n",
    "    rows = len(matrix)\n",
    "    cols = len(matrix[0])\n",
    "    if current_point[1]+1 < cols and matrix[current_point[0]][current_point[1]+1] != 1:\n",
    "        re.append('right')\n",
    "    if current_point[0] + 1 < rows and matrix[current_point[0]+1][current_point[1]] != 1:\n",
    "        re.append('down')\n",
    "    if current_point[1]-1 >=0 and matrix[current_point[0]][current_point[1]-1] != 1:\n",
    "        re.append('left')\n",
    "    if current_point[0]-1 >=0 and matrix[current_point[0]-1][current_point[1]] !=1:\n",
    "        re.append('up')\n",
    "    return re"
   ]
  },
  {
   "cell_type": "code",
   "execution_count": 24,
   "metadata": {},
   "outputs": [],
   "source": [
    "def robot_move(current_point, action):\n",
    "    if action == 'right':\n",
    "        return (current_point[0], current_point[1]+1)\n",
    "    if action == 'down':\n",
    "        return (current_point[0]+1, current_point[1])\n",
    "    if action == 'left':\n",
    "        return (current_point[0], current_point[1]-1)\n",
    "    if action == 'up':\n",
    "        return (current_point[0]-1, current_point[1])"
   ]
  },
  {
   "cell_type": "code",
   "execution_count": 74,
   "metadata": {},
   "outputs": [],
   "source": [
    "def main(matrix, start_point, end_point):\n",
    "    queue = []\n",
    "    step = 0\n",
    "    current_point = start_point\n",
    "    queue.append((current_point, [start_point]))\n",
    "    matrix[current_point[0]][current_point[1]] = 1\n",
    "\n",
    "    while queue:\n",
    "        cur_point, cur_path = queue.pop(0)\n",
    "        if cur_point == end_point:\n",
    "            return cur_path\n",
    "        else:\n",
    "            acts = valid_actions(matrix, cur_point)\n",
    "            if acts: # 如果有路可走\n",
    "                for a in acts:\n",
    "                    next_point = robot_move(cur_point, a)\n",
    "                    queue.append((next_point, cur_path + [next_point]))  \n",
    "                    matrix[next_point[0]][next_point[1]] = 1  "
   ]
  },
  {
   "cell_type": "code",
   "execution_count": 75,
   "metadata": {},
   "outputs": [
    {
     "name": "stdout",
     "output_type": "stream",
     "text": [
      "[(0, 0), (0, 1), (0, 2), (0, 3), (0, 4), (0, 5), (1, 5)]\n"
     ]
    }
   ],
   "source": [
    "if __name__ == '__main__':\n",
    "    Matrix = [[0,0,0,0,0,0],\n",
    "              [0,0,0,0,0,0],\n",
    "              [0,0,0,0,0,0],\n",
    "              [0,0,0,0,1,1]]\n",
    "    start_point = (0, 0)\n",
    "    end_point = (1, 5)\n",
    "    shortest_path = main(Matrix, start_point, end_point)\n",
    "    print(shortest_path)"
   ]
  }
 ],
 "metadata": {
  "interpreter": {
   "hash": "aee8b7b246df8f9039afb4144a1f6fd8d2ca17a180786b69acc140d282b71a49"
  },
  "kernelspec": {
   "display_name": "Python 3.8.5 64-bit",
   "language": "python",
   "name": "python3"
  },
  "language_info": {
   "codemirror_mode": {
    "name": "ipython",
    "version": 3
   },
   "file_extension": ".py",
   "mimetype": "text/x-python",
   "name": "python",
   "nbconvert_exporter": "python",
   "pygments_lexer": "ipython3",
   "version": "3.8.5"
  },
  "orig_nbformat": 4
 },
 "nbformat": 4,
 "nbformat_minor": 2
}
